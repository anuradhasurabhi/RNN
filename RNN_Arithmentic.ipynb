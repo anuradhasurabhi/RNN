{
  "nbformat": 4,
  "nbformat_minor": 0,
  "metadata": {
    "accelerator": "TPU",
    "colab": {
      "name": "RNN_Arithmentic.ipynb",
      "provenance": [],
      "collapsed_sections": [],
      "include_colab_link": true
    },
    "kernelspec": {
      "display_name": "Python 3",
      "language": "python",
      "name": "python3"
    },
    "language_info": {
      "codemirror_mode": {
        "name": "ipython",
        "version": 3
      },
      "file_extension": ".py",
      "mimetype": "text/x-python",
      "name": "python",
      "nbconvert_exporter": "python",
      "pygments_lexer": "ipython3",
      "version": "3.6.8"
    }
  },
  "cells": [
    {
      "cell_type": "markdown",
      "metadata": {
        "id": "view-in-github",
        "colab_type": "text"
      },
      "source": [
        "<a href=\"https://colab.research.google.com/github/anuradhasurabhi/RNN/blob/master/RNN_Arithmentic.ipynb\" target=\"_parent\"><img src=\"https://colab.research.google.com/assets/colab-badge.svg\" alt=\"Open In Colab\"/></a>"
      ]
    },
    {
      "cell_type": "markdown",
      "metadata": {
        "id": "PrvZoruRHZR1",
        "colab_type": "text"
      },
      "source": [
        "# Making Your RNN Model Learn Arithmetic Operations!\n",
        "Problem:\n",
        "\n",
        "Given the string \"34+17\", the model should return a prediction: \"51\". Like addition the input string can also be subtraction, multiplication and division of numbers. Here we are giving input as a sequence of characters and expecting output is also a sequence of characters, and that will be predicted as a next string to the given string."
      ]
    },
    {
      "cell_type": "markdown",
      "metadata": {
        "id": "tk4VaSMGy4L0",
        "colab_type": "text"
      },
      "source": [
        "Importing necessary Libraries"
      ]
    },
    {
      "cell_type": "code",
      "metadata": {
        "id": "xg_0r4weVlJB",
        "colab_type": "code",
        "colab": {}
      },
      "source": [
        "import numpy as np\n",
        "import tensorflow as tf\n",
        "\n",
        "from tensorflow.keras.models import Sequential\n",
        "from tensorflow.keras.layers import Dense, Dropout, LSTM, SimpleRNN, RepeatVector, TimeDistributed\n",
        "from tensorflow.keras.callbacks import EarlyStopping, LambdaCallback\n",
        "\n",
        "from termcolor import colored"
      ],
      "execution_count": 21,
      "outputs": []
    },
    {
      "cell_type": "markdown",
      "metadata": {
        "id": "gNF66GWoHgTT",
        "colab_type": "text"
      },
      "source": [
        "**Task 1: Generate Data**\n",
        "___\n",
        "First of all define the vocabulary with all the possible characters of input string as a list. Thus the vocabulary should consists of 0 to 9 digits, symbols: +, -, *, / and decimal(.). \n",
        "\n",
        "The model that you create need numeric values in tensors as input. We need a suitable representation of these sequence of characters to input to model. We  do this by converting characters to one-hot encoding vectors. The dimension of the vector will be equal to length of vocabulary. That will be the total number of features that we have. We need a dictionary that might be used to tokenize characters into numeric values for this purpose and also a reverse dictionary with index values as keys and corresponding characters as values, that might be used in later steps .\n",
        "___"
      ]
    },
    {
      "cell_type": "code",
      "metadata": {
        "id": "kEchpluCVuZe",
        "colab_type": "code",
        "colab": {
          "base_uri": "https://localhost:8080/",
          "height": 51
        },
        "outputId": "ab02a6aa-d22f-48e1-84b7-3b6827c24227"
      },
      "source": [
        "vocabulary ='0123456789+-*/.'\n",
        "print('Vocabulary: ', vocabulary)\n",
        "num_features = len(vocabulary)   ## define total number of features in the list; length of list\n",
        "print('Number of features:', num_features)   ## print the number of features \n"
      ],
      "execution_count": 22,
      "outputs": [
        {
          "output_type": "stream",
          "text": [
            "Vocabulary:  0123456789+-*/.\n",
            "Number of features: 15\n"
          ],
          "name": "stdout"
        }
      ]
    },
    {
      "cell_type": "code",
      "metadata": {
        "id": "GFvnE86hIsX-",
        "colab_type": "code",
        "colab": {
          "base_uri": "https://localhost:8080/",
          "height": 51
        },
        "outputId": "6e6b9458-dfc3-4e5c-c5f6-b05359743be2"
      },
      "source": [
        "char_to_index = dict((c, i) for i, c in enumerate(vocabulary))\n",
        "index_to_char = dict((i, c) for i, c in enumerate(vocabulary))\n",
        "print('char_to_index : ', char_to_index)\n",
        "print('index_to_char : ', index_to_char)"
      ],
      "execution_count": 23,
      "outputs": [
        {
          "output_type": "stream",
          "text": [
            "char_to_index :  {'0': 0, '1': 1, '2': 2, '3': 3, '4': 4, '5': 5, '6': 6, '7': 7, '8': 8, '9': 9, '+': 10, '-': 11, '*': 12, '/': 13, '.': 14}\n",
            "index_to_char :  {0: '0', 1: '1', 2: '2', 3: '3', 4: '4', 5: '5', 6: '6', 7: '7', 8: '8', 9: '9', 10: '+', 11: '-', 12: '*', 13: '/', 14: '.'}\n"
          ],
          "name": "stdout"
        }
      ]
    },
    {
      "cell_type": "markdown",
      "metadata": {
        "id": "0BtYBh2BHyn4",
        "colab_type": "text"
      },
      "source": [
        "Now lets generate the data which is an single expression, result pair by defining a function. For this first create two numbers: 'first' and 'second' using 'np.random.randint(low, high)' and then create *expression* as the concatenation of stringified first and stringified second numbers. Similary create the *result* as stringingified 'first+second'. Sameway define for remaining operations also. Then the function should return created expression, result pair. "
      ]
    },
    {
      "cell_type": "code",
      "metadata": {
        "id": "RCgSr-jOf6OZ",
        "colab_type": "code",
        "colab": {
          "base_uri": "https://localhost:8080/",
          "height": 34
        },
        "outputId": "81ade731-c0fe-4553-d6b9-f8258b9474d9"
      },
      "source": [
        "def weird_division(n, d):\n",
        "    return n / d if d else 0\n",
        "\n",
        "def generate_data():\n",
        "    first_num = np.random.randint(low=0,high=100)\n",
        "    second_num = np.random.randint(low=0,high=100)\n",
        "    add = np.random.randint(low=0, high=100) \n",
        "    if add <25:\n",
        "        expression = str(first_num) + '+' + str(second_num)\n",
        "        result = str(first_num+second_num)\n",
        "    elif add in range(26,50):\n",
        "        expression = str(first_num) + '-' + str(second_num)\n",
        "        result = str(first_num-second_num)\n",
        "    elif add in range(50,75):\n",
        "        expression = str(first_num) + '*' + str(second_num)\n",
        "        result = str(first_num*second_num)\n",
        "    else:\n",
        "        expression = str(first_num) + '/' + str(second_num)\n",
        "        res = weird_division(first_num, second_num)\n",
        "        result = str(round(res,2))\n",
        "\n",
        "\n",
        "    return expression, result\n",
        "\n",
        "generate_data()"
      ],
      "execution_count": 24,
      "outputs": [
        {
          "output_type": "execute_result",
          "data": {
            "text/plain": [
              "('91*41', '3731')"
            ]
          },
          "metadata": {
            "tags": []
          },
          "execution_count": 24
        }
      ]
    },
    {
      "cell_type": "markdown",
      "metadata": {
        "id": "VQZKCpVwH6l0",
        "colab_type": "text"
      },
      "source": [
        "**Task 2: Create the Model**\n",
        "\n",
        "The model is keara's sequential with two parts: encoder and decoder. Encoder part is a SimpleRNN layer with hidden_units=128 and 'num_features' which is a fully connected RNN layer and the outputs of these units fed back to the network, it uses 'tanh' activation by default. The output of this layer will be a single vector representation and to achieve the single vector representation of the entire output, we will use the RepeatVector() layer with 'max_time_steps' repeated. \n",
        "\n",
        "This vector representation is the input to the Decoder section. Decoder consists of another SimpleRNN layer which takes vector representation of the input and generates predicted sequence. So, define this layer with 'hidden_units' and set 'return_sequences' to 'True'. \n",
        "\n",
        "The output of this RNN is a sequence which will go to a Dense layer with 'softmax' activation function. So, that the output will be various possibilities for various characters at each time step. \n",
        "\n",
        "As we need to apply Dense layer to individual time steps, we will encapsulate Dense layer inside a TimeDistribute layer, hidden state is different for different time steps. We want probability distribution for our characters 'num_features'"
      ]
    },
    {
      "cell_type": "code",
      "metadata": {
        "id": "UMrCjRJNy2NN",
        "colab_type": "code",
        "colab": {
          "base_uri": "https://localhost:8080/",
          "height": 289
        },
        "outputId": "67d87bd4-a6c2-4b8b-a500-37f2bef4cd06"
      },
      "source": [
        "hidden_units = 128\n",
        "max_time_steps = 5    # maximum length of input sequence\n",
        "def rnn_model():\n",
        "  rnn_model = Sequential()\n",
        "  rnn_model.add(SimpleRNN(hidden_units, input_shape=(None, num_features)))\n",
        "  rnn_model.add(RepeatVector(max_time_steps))\n",
        "  rnn_model.add(SimpleRNN(hidden_units, return_sequences=True))\n",
        "  rnn_model.add(TimeDistributed(Dense(num_features, activation='softmax')))\n",
        "  \n",
        "  return rnn_model\n",
        "\n",
        "model = rnn_model()\n",
        "model.summary()\n",
        " \n",
        "model.compile(loss='categorical_crossentropy', optimizer='adam', metrics=['accuracy'])"
      ],
      "execution_count": 27,
      "outputs": [
        {
          "output_type": "stream",
          "text": [
            "Model: \"sequential_6\"\n",
            "_________________________________________________________________\n",
            "Layer (type)                 Output Shape              Param #   \n",
            "=================================================================\n",
            "simple_rnn_9 (SimpleRNN)     (None, 128)               18432     \n",
            "_________________________________________________________________\n",
            "repeat_vector_4 (RepeatVecto (None, 5, 128)            0         \n",
            "_________________________________________________________________\n",
            "simple_rnn_10 (SimpleRNN)    (None, 5, 128)            32896     \n",
            "_________________________________________________________________\n",
            "time_distributed_4 (TimeDist (None, 5, 15)             1935      \n",
            "=================================================================\n",
            "Total params: 53,263\n",
            "Trainable params: 53,263\n",
            "Non-trainable params: 0\n",
            "_________________________________________________________________\n"
          ],
          "name": "stdout"
        }
      ]
    },
    {
      "cell_type": "code",
      "metadata": {
        "id": "oCX-1WgC5JsL",
        "colab_type": "code",
        "colab": {
          "base_uri": "https://localhost:8080/",
          "height": 533
        },
        "outputId": "e4041fdd-98b1-49ed-91ef-d67db26ce9c0"
      },
      "source": [
        "from keras.utils.vis_utils import plot_model\n",
        "plot_model(model, to_file='model_plot.png', show_shapes=True, show_layer_names=True)"
      ],
      "execution_count": 19,
      "outputs": [
        {
          "output_type": "execute_result",
          "data": {
            "image/png": "[encoded data removed]",
            "text/plain": [
              "<IPython.core.display.Image object>"
            ]
          },
          "metadata": {
            "tags": []
          },
          "execution_count": 19
        }
      ]
    },
    {
      "cell_type": "markdown",
      "metadata": {
        "id": "jhrLE-i4JFDU",
        "colab_type": "text"
      },
      "source": [
        "**Task 3: Vectorize, De-Vectorize Data and remove padding**\n",
        "___\n",
        "We need to vectorize the data so that it can be used in our RNN model. Define a function that vectorizes the given (expression, result) pair. In this function create a couple of place holders for the expression and result each with shapes (max_time_steps, num_features) and initialize with zero's. "
      ]
    },
    {
      "cell_type": "code",
      "metadata": {
        "id": "K3tiTma0VuKc",
        "colab_type": "code",
        "colab": {}
      },
      "source": [
        "def vectorize_example(expression, result): \n",
        "    \n",
        "    x = np.zeros((max_time_steps, num_features))                   \n",
        "    y = np.zeros((max_time_steps, num_features))\n",
        "    \n",
        "    diff_x = max_time_steps - len(expression)                         \n",
        "    diff_y = max_time_steps - len(result)                           \n",
        "    \n",
        "    for i, c in enumerate(expression):           \n",
        "        x[diff_x+i, char_to_index[c]] = 1     \n",
        "    for i in range(diff_x):                   \n",
        "        x[i, char_to_index['0']] = 1         \n",
        "   \n",
        "    for i, c in enumerate(result):\n",
        "        y[diff_y+i, char_to_index[c]] = 1\n",
        "    for i in range(diff_y):\n",
        "        y[i, char_to_index['0']] = 1\n",
        "        \n",
        "    return x, y\n"
      ],
      "execution_count": null,
      "outputs": []
    },
    {
      "cell_type": "markdown",
      "metadata": {
        "id": "VzTbzrymNKUf",
        "colab_type": "text"
      },
      "source": [
        "Define a function to devectorize 'expression' and 'result' back. Create a list by using 'index_to_char' dictionary with relevant indices to convert indices back into characters. Use 'np.argmax()' to pick the maximum index value by enumerating over 'example'"
      ]
    },
    {
      "cell_type": "code",
      "metadata": {
        "id": "UWVVbn1xVt7x",
        "colab_type": "code",
        "colab": {}
      },
      "source": [
        "def devectorize_example(example):\n",
        "    result = [index_to_char[np.argmax(vec)] for i, vec in enumerate(example)]\n",
        "    return ''.join(result)"
      ],
      "execution_count": 29,
      "outputs": []
    },
    {
      "cell_type": "markdown",
      "metadata": {
        "id": "nOjosipoNh5U",
        "colab_type": "text"
      },
      "source": [
        "If the expression and result pair is like '3-34','-31' then vectorized and devectorized results should be like '03-34', '00-31'. We can remove padded zeros while displaying the output results. "
      ]
    },
    {
      "cell_type": "code",
      "metadata": {
        "id": "QdFtgNDX3Mop",
        "colab_type": "code",
        "colab": {}
      },
      "source": [
        "def strip_padding(example):\n",
        "    encountered_non_zero = False\n",
        "    output = ''\n",
        "    for c in example:\n",
        "        if not encountered_non_zero and c == '0':\n",
        "            continue\n",
        "        if c == '+' or c == '-' or c=='*' or c=='/' or c=='.':\n",
        "            encountered_non_zero = False\n",
        "        else:\n",
        "            encountered_non_zero = True\n",
        "        output += c\n",
        "    return output"
      ],
      "execution_count": 30,
      "outputs": []
    },
    {
      "cell_type": "markdown",
      "metadata": {
        "id": "-_0ppeMQOXJJ",
        "colab_type": "text"
      },
      "source": [
        "**Task 4: Create Dataset**\n",
        "___\n",
        "We have defined a function to create a single (expression, result) pair. Now we need to create an entire dataset to train the model. Define a function to create dataset with a num_examples."
      ]
    },
    {
      "cell_type": "code",
      "metadata": {
        "id": "jRIYxQM1WYmo",
        "colab_type": "code",
        "colab": {}
      },
      "source": [
        "def create_dataset(num_examples):\n",
        "\n",
        "    x_train = np.zeros((num_examples, max_time_steps, num_features))            \n",
        "    y_train = np.zeros((num_examples, max_time_steps, num_features))            \n",
        "\n",
        "    for i in range(num_examples):                                               \n",
        "        e, l = generate_data()                                                  \n",
        "        x, y = vectorize_example(e, l)                                          \n",
        "        x_train[i] = x                                                          \n",
        "        y_train[i] = y                                                          \n",
        "    \n",
        "    return x_train, y_train\n"
      ],
      "execution_count": null,
      "outputs": []
    },
    {
      "cell_type": "markdown",
      "metadata": {
        "id": "uEvaF2dgIVbv",
        "colab_type": "text"
      },
      "source": [
        "**Task 5: Training and Evaluating the model**"
      ]
    },
    {
      "cell_type": "code",
      "metadata": {
        "id": "Mp428IYLXRtN",
        "colab_type": "code",
        "colab": {
          "base_uri": "https://localhost:8080/",
          "height": 54
        },
        "outputId": "19f53121-0bfd-4de7-a7b7-f71b1bcfdf84"
      },
      "source": [
        "x_train, y_train = create_dataset(50000)\n",
        "simple_logger = LambdaCallback(\n",
        "    on_epoch_end=lambda e, l: print('{:.2f}'.format(l['val_accuracy']), end=' _ ')\n",
        ")\n",
        "early_stopping = EarlyStopping(monitor='val_loss', patience=10)\n",
        "\n",
        "model.fit(x_train, y_train, epochs=100, validation_split=0.2, verbose=0, \n",
        "           callbacks=[simple_logger, early_stopping])"
      ],
      "execution_count": 48,
      "outputs": [
        {
          "output_type": "stream",
          "text": [
            "0.84 _ 0.84 _ 0.85 _ 0.86 _ 0.84 _ 0.84 _ 0.85 _ 0.85 _ 0.85 _ 0.86 _ 0.86 _ 0.85 _ 0.85 _ 0.86 _ 0.86 _ 0.86 _ 0.86 _ 0.85 _ 0.86 _ 0.85 _ 0.86 _ 0.86 _ 0.86 _ 0.85 _ 0.86 _ 0.86 _ 0.86 _ 0.86 _ 0.86 _ 0.86 _ 0.86 _ "
          ],
          "name": "stdout"
        },
        {
          "output_type": "execute_result",
          "data": {
            "text/plain": [
              "<tensorflow.python.keras.callbacks.History at 0x7fefc3894f60>"
            ]
          },
          "metadata": {
            "tags": []
          },
          "execution_count": 48
        }
      ]
    },
    {
      "cell_type": "markdown",
      "metadata": {
        "id": "-spsNddahS6i",
        "colab_type": "text"
      },
      "source": [
        "**Predictions:**"
      ]
    },
    {
      "cell_type": "code",
      "metadata": {
        "id": "VpAX6Xa4Wb4q",
        "colab_type": "code",
        "colab": {
          "base_uri": "https://localhost:8080/",
          "height": 391
        },
        "outputId": "a1701c1e-0bc3-4240-9bbf-d8821b83943a"
      },
      "source": [
        "x_test, y_test = create_dataset(num_examples=20)\n",
        "preds = model.predict(x_test)\n",
        "full_seq_acc = 0\n",
        "\n",
        "for i, pred in enumerate(preds):\n",
        "    pred_str = strip_padding(devectorize_example(pred))\n",
        "    y_test_str = strip_padding(devectorize_example(y_test[i]))\n",
        "    x_test_str = strip_padding(devectorize_example(x_test[i]))\n",
        "    col = 'green' if pred_str == y_test_str else 'red'\n",
        "    full_seq_acc += 1/len(preds) * int(pred_str == y_test_str)\n",
        "    outstring = 'Input: {}, Output: {}, Prediction: {}'.format(x_test_str, y_test_str, pred_str)\n",
        "    print(colored(outstring, col))\n",
        "print('\\nFull sequence accuracy: {:.3f} %'.format(100 * full_seq_acc))"
      ],
      "execution_count": 49,
      "outputs": [
        {
          "output_type": "stream",
          "text": [
            "\u001b[31mInput: 38*77, Output: 2926, Prediction: 2846\u001b[0m\n",
            "\u001b[31mInput: 33*37, Output: 1221, Prediction: 1191\u001b[0m\n",
            "\u001b[32mInput: 86-56, Output: 30, Prediction: 30\u001b[0m\n",
            "\u001b[32mInput: 72-43, Output: 29, Prediction: 29\u001b[0m\n",
            "\u001b[32mInput: 75/19, Output: 3.95, Prediction: 3.95\u001b[0m\n",
            "\u001b[32mInput: 37+90, Output: 127, Prediction: 127\u001b[0m\n",
            "\u001b[32mInput: 48-16, Output: 32, Prediction: 32\u001b[0m\n",
            "\u001b[32mInput: 95+25, Output: 120, Prediction: 120\u001b[0m\n",
            "\u001b[32mInput: 61-74, Output: -13, Prediction: -13\u001b[0m\n",
            "\u001b[32mInput: 99+39, Output: 138, Prediction: 138\u001b[0m\n",
            "\u001b[32mInput: 50*72, Output: 3600, Prediction: 3600\u001b[0m\n",
            "\u001b[32mInput: 4-70, Output: -66, Prediction: -66\u001b[0m\n",
            "\u001b[31mInput: 22/80, Output: .28, Prediction: .26\u001b[0m\n",
            "\u001b[32mInput: 6/82, Output: .7, Prediction: .7\u001b[0m\n",
            "\u001b[32mInput: 4/45, Output: .9, Prediction: .9\u001b[0m\n",
            "\u001b[31mInput: 56*68, Output: 3808, Prediction: 3768\u001b[0m\n",
            "\u001b[31mInput: 57-7, Output: 50, Prediction: 52\u001b[0m\n",
            "\u001b[32mInput: 15+63, Output: 78, Prediction: 78\u001b[0m\n",
            "\u001b[31mInput: 6*81, Output: 486, Prediction: 416\u001b[0m\n",
            "\u001b[32mInput: 10+80, Output: 90, Prediction: 90\u001b[0m\n",
            "\n",
            "Full sequence accuracy: 70.000 %\n"
          ],
          "name": "stdout"
        }
      ]
    }
  ]
}